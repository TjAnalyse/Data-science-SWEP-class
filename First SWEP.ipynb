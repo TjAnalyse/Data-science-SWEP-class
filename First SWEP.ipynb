{
 "cells": [
  {
   "cell_type": "code",
   "execution_count": 2,
   "id": "38c01f9a-c7c9-41ad-99ad-3eea85ab3a5b",
   "metadata": {
    "tags": []
   },
   "outputs": [
    {
     "name": "stdout",
     "output_type": "stream",
     "text": [
      "hello world\n"
     ]
    }
   ],
   "source": [
    "print('hello world')"
   ]
  },
  {
   "cell_type": "code",
   "execution_count": 5,
   "id": "31fd25c5-9fae-43ea-a49a-14e1b3de9d8e",
   "metadata": {
    "tags": []
   },
   "outputs": [
    {
     "name": "stdout",
     "output_type": "stream",
     "text": [
      "Tijesu\n"
     ]
    }
   ],
   "source": [
    "print('Tijesu')"
   ]
  },
  {
   "cell_type": "code",
   "execution_count": 9,
   "id": "083a384d-dd16-4cb7-b972-6c08a44741f2",
   "metadata": {
    "tags": []
   },
   "outputs": [
    {
     "name": "stdout",
     "output_type": "stream",
     "text": [
      "Tijesu\n"
     ]
    }
   ],
   "source": [
    "a = \"Tijesu\"\n",
    "print(a)"
   ]
  },
  {
   "cell_type": "code",
   "execution_count": 11,
   "id": "52a36003-5a2a-49cc-bf11-067ed0b56acb",
   "metadata": {
    "tags": []
   },
   "outputs": [
    {
     "name": "stdout",
     "output_type": "stream",
     "text": [
      "8388\n"
     ]
    }
   ],
   "source": [
    "print(8388)"
   ]
  },
  {
   "cell_type": "code",
   "execution_count": 14,
   "id": "f327bace-c138-45d4-977d-6d5b9dc798da",
   "metadata": {
    "tags": []
   },
   "outputs": [
    {
     "name": "stdout",
     "output_type": "stream",
     "text": [
      "my name is Tijesu\n"
     ]
    }
   ],
   "source": [
    "print('my name is Tijesu')"
   ]
  },
  {
   "cell_type": "code",
   "execution_count": 16,
   "id": "dc331fc6-6d74-4306-a791-9d65575be98d",
   "metadata": {
    "tags": []
   },
   "outputs": [
    {
     "name": "stdout",
     "output_type": "stream",
     "text": [
      "10\n"
     ]
    }
   ],
   "source": [
    "a = 2\n",
    "b= 3\n",
    "c = a+b\n",
    "print(a+b+c)"
   ]
  },
  {
   "cell_type": "code",
   "execution_count": 18,
   "id": "d3180348-a2cc-4f69-98ac-c3382a38e4ee",
   "metadata": {
    "tags": []
   },
   "outputs": [
    {
     "name": "stdout",
     "output_type": "stream",
     "text": [
      "41.666666666666664\n"
     ]
    }
   ],
   "source": [
    "print(c**b/b)"
   ]
  },
  {
   "cell_type": "code",
   "execution_count": 20,
   "id": "6a76de46-ba6c-4bbb-a89d-3fd93b2008d0",
   "metadata": {
    "tags": []
   },
   "outputs": [
    {
     "data": {
      "text/plain": [
       "float"
      ]
     },
     "execution_count": 20,
     "metadata": {},
     "output_type": "execute_result"
    }
   ],
   "source": [
    "type(c**b/b)\n"
   ]
  },
  {
   "cell_type": "code",
   "execution_count": 26,
   "id": "3034b897-ec10-4469-924c-3b62cb90ba57",
   "metadata": {
    "tags": []
   },
   "outputs": [
    {
     "data": {
      "text/plain": [
       "bool"
      ]
     },
     "execution_count": 26,
     "metadata": {},
     "output_type": "execute_result"
    }
   ],
   "source": [
    "b = True\n",
    "type(b)"
   ]
  },
  {
   "cell_type": "code",
   "execution_count": 31,
   "id": "b150fa32-75d2-48cc-ad52-46c6ea3605c6",
   "metadata": {
    "tags": []
   },
   "outputs": [
    {
     "name": "stdout",
     "output_type": "stream",
     "text": [
      "onademuren\n"
     ]
    }
   ],
   "source": [
    "my_name = 'onademuren'\n",
    "print(my_name)"
   ]
  },
  {
   "cell_type": "code",
   "execution_count": 32,
   "id": "cb3eb591-c093-42fb-92c0-5ea26f697293",
   "metadata": {
    "tags": []
   },
   "outputs": [
    {
     "data": {
      "text/plain": [
       "'onademuren'"
      ]
     },
     "execution_count": 32,
     "metadata": {},
     "output_type": "execute_result"
    }
   ],
   "source": [
    "my_name.lower()"
   ]
  },
  {
   "cell_type": "code",
   "execution_count": 33,
   "id": "451f9613-c4fd-40ad-b1f2-88cf6006a1c6",
   "metadata": {
    "tags": []
   },
   "outputs": [
    {
     "data": {
      "text/plain": [
       "'ONADEMUREN'"
      ]
     },
     "execution_count": 33,
     "metadata": {},
     "output_type": "execute_result"
    }
   ],
   "source": [
    "my_name.upper()"
   ]
  },
  {
   "cell_type": "code",
   "execution_count": 34,
   "id": "40c4a78e-9902-4b25-b3a1-fa2cd0b1ce9a",
   "metadata": {
    "tags": []
   },
   "outputs": [
    {
     "data": {
      "text/plain": [
       "2"
      ]
     },
     "execution_count": 34,
     "metadata": {},
     "output_type": "execute_result"
    }
   ],
   "source": [
    "my_name.count('e')"
   ]
  },
  {
   "cell_type": "code",
   "execution_count": 35,
   "id": "766cd349-6a63-4a6b-a7bf-73b09b1df446",
   "metadata": {
    "tags": []
   },
   "outputs": [
    {
     "data": {
      "text/plain": [
       "10"
      ]
     },
     "execution_count": 35,
     "metadata": {},
     "output_type": "execute_result"
    }
   ],
   "source": [
    "len(my_name)"
   ]
  },
  {
   "cell_type": "code",
   "execution_count": 37,
   "id": "4eed42b5-9ed8-40db-b8fe-dfa4f25db14a",
   "metadata": {
    "tags": []
   },
   "outputs": [
    {
     "name": "stdin",
     "output_type": "stream",
     "text": [
      "what is your age 24\n"
     ]
    },
    {
     "data": {
      "text/plain": [
       "'24'"
      ]
     },
     "execution_count": 37,
     "metadata": {},
     "output_type": "execute_result"
    }
   ],
   "source": [
    "input(\"what is your age\")"
   ]
  },
  {
   "cell_type": "code",
   "execution_count": 40,
   "id": "d39038c0-bc1a-4df3-a6c3-f9cd5fe886f9",
   "metadata": {
    "tags": []
   },
   "outputs": [
    {
     "name": "stdin",
     "output_type": "stream",
     "text": [
      "what are you wearing A black shirt\n"
     ]
    }
   ],
   "source": [
    "cloth_type = input(\"what are you wearing\")"
   ]
  },
  {
   "cell_type": "code",
   "execution_count": 42,
   "id": "47609a49-0c8e-4926-b3a7-43c08bb4384d",
   "metadata": {
    "tags": []
   },
   "outputs": [
    {
     "name": "stdout",
     "output_type": "stream",
     "text": [
      "A black shirt\n"
     ]
    }
   ],
   "source": [
    "print(cloth_type)"
   ]
  },
  {
   "cell_type": "code",
   "execution_count": 44,
   "id": "9d3fa402-98de-4f67-8fc6-d3550b1f63eb",
   "metadata": {
    "tags": []
   },
   "outputs": [
    {
     "name": "stdin",
     "output_type": "stream",
     "text": [
      "what is your name Tijesu\n",
      "what is your age level Teenager\n"
     ]
    },
    {
     "name": "stdout",
     "output_type": "stream",
     "text": [
      "Welcome Mr.Tijesu, it is good to have a Teenager in our company\n"
     ]
    }
   ],
   "source": [
    "name = input(\"what is your name\")\n",
    "age = input(\"what is your age level\")\n",
    "print(f\"Welcome Mr.{name}, it is good to have a {age} in our company\")"
   ]
  },
  {
   "cell_type": "code",
   "execution_count": 3,
   "id": "fd7661d2-5d4a-4ae9-b6a1-3fbb6b59a532",
   "metadata": {},
   "outputs": [
    {
     "ename": "SyntaxError",
     "evalue": "invalid syntax (4125952916.py, line 2)",
     "output_type": "error",
     "traceback": [
      "\u001b[1;36m  Cell \u001b[1;32mIn[3], line 2\u001b[1;36m\u001b[0m\n\u001b[1;33m    welcome Mr.{}. format(name)\u001b[0m\n\u001b[1;37m            ^\u001b[0m\n\u001b[1;31mSyntaxError\u001b[0m\u001b[1;31m:\u001b[0m invalid syntax\n"
     ]
    }
   ],
   "source": [
    "character = input(\"what is your character\")\n",
    "welcome Mr.{}. format(name)"
   ]
  },
  {
   "cell_type": "code",
   "execution_count": null,
   "id": "382b1cb9-b9c8-493e-b1f0-276e21d22fe8",
   "metadata": {},
   "outputs": [],
   "source": []
  }
 ],
 "metadata": {
  "kernelspec": {
   "display_name": "Python 3 (ipykernel)",
   "language": "python",
   "name": "python3"
  },
  "language_info": {
   "codemirror_mode": {
    "name": "ipython",
    "version": 3
   },
   "file_extension": ".py",
   "mimetype": "text/x-python",
   "name": "python",
   "nbconvert_exporter": "python",
   "pygments_lexer": "ipython3",
   "version": "3.11.5"
  }
 },
 "nbformat": 4,
 "nbformat_minor": 5
}
