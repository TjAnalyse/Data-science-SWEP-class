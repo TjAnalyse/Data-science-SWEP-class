{
 "cells": [
  {
   "cell_type": "code",
   "execution_count": 36,
   "id": "4415ed29-717b-4b7c-a82e-251c5b15e1ce",
   "metadata": {
    "tags": []
   },
   "outputs": [
    {
     "name": "stdin",
     "output_type": "stream",
     "text": [
      "what is your weight in kilogram 50\n",
      "what is your height in metres 3\n"
     ]
    },
    {
     "name": "stdout",
     "output_type": "stream",
     "text": [
      "You are under weight\n"
     ]
    },
    {
     "data": {
      "text/plain": [
       "5.56"
      ]
     },
     "execution_count": 36,
     "metadata": {},
     "output_type": "execute_result"
    }
   ],
   "source": [
    "# BMI CALCULATOR USING FUNCTION,COLLECTING THE DATA AND ALSO OUTPUTING THE CALCULATED VALUE\n",
    "\n",
    "def bmi_cal(w, h):\n",
    "    BMI =  round(w/(h**2),2)\n",
    "\n",
    "    if BMI <= 18.5:\n",
    "        print(\"You are under weight\")\n",
    "    elif BMI > 18.5 and BMI <= 25:\n",
    "        print(\"You are of normal weight\")\n",
    "    elif BMI > 25 and BMI <= 30:\n",
    "        print(\"You are overweight\")\n",
    "    else:\n",
    "        print(\"You are obese\")\n",
    "    return BMI\n",
    "        \n",
    "weight = float(input(\"what is your weight in kilogram\"))\n",
    "height = float(input(\"what is your height in metres\"))\n",
    "bmi_cal(weight,height)"
   ]
  },
  {
   "cell_type": "code",
   "execution_count": 31,
   "id": "5ea365ae-b227-4390-81da-f2bb173065e6",
   "metadata": {
    "tags": []
   },
   "outputs": [
    {
     "name": "stdin",
     "output_type": "stream",
     "text": [
      "what is your weight in kilogram 48\n",
      "what is your height in metres 2\n"
     ]
    },
    {
     "name": "stdout",
     "output_type": "stream",
     "text": [
      "You are under weight\n",
      "12.0\n"
     ]
    }
   ],
   "source": [
    "# BMI CALCULATOR COLLECTING DATA NORMALLY\n",
    "\n",
    "weight = float(input(\"what is your weight in kilogram\"))\n",
    "height = float(input(\"what is your height in metres\"))\n",
    "\n",
    "bmi = round(weight/(height**2),2)\n",
    "\n",
    "if bmi <= 18.5:\n",
    "    print(\"You are under weight\")\n",
    "elif bmi > 18.5 and bmi <= 25:\n",
    "    print(\"You are of normal weight\")\n",
    "elif bmi > 25 and bmi <= 30:\n",
    "    print(\"You are overweight\")\n",
    "else:\n",
    "    print(\"You are obese\")\n",
    "print(bmi)"
   ]
  },
  {
   "cell_type": "code",
   "execution_count": null,
   "id": "19dd30cb-c890-4a9f-9205-41036118fdcb",
   "metadata": {},
   "outputs": [],
   "source": []
  }
 ],
 "metadata": {
  "kernelspec": {
   "display_name": "Python 3 (ipykernel)",
   "language": "python",
   "name": "python3"
  },
  "language_info": {
   "codemirror_mode": {
    "name": "ipython",
    "version": 3
   },
   "file_extension": ".py",
   "mimetype": "text/x-python",
   "name": "python",
   "nbconvert_exporter": "python",
   "pygments_lexer": "ipython3",
   "version": "3.11.5"
  }
 },
 "nbformat": 4,
 "nbformat_minor": 5
}
